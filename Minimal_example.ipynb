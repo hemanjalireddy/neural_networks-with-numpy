{
  "nbformat": 4,
  "nbformat_minor": 0,
  "metadata": {
    "colab": {
      "name": "Minimal_example.ipynb",
      "provenance": [],
      "authorship_tag": "ABX9TyOJFWk0XLahlIzVYDWANVkT"
    },
    "kernelspec": {
      "name": "python3",
      "display_name": "Python 3"
    },
    "language_info": {
      "name": "python"
    }
  },
  "cells": [
    {
      "cell_type": "markdown",
      "source": [
        "# Neural networks with numpy"
      ],
      "metadata": {
        "id": "vHLOmrtbsfFL"
      }
    },
    {
      "cell_type": "markdown",
      "source": [
        "## Import libraries"
      ],
      "metadata": {
        "id": "qoQFGfhoscQk"
      }
    },
    {
      "cell_type": "code",
      "execution_count": null,
      "metadata": {
        "id": "RExH9PKiAqBu"
      },
      "outputs": [],
      "source": [
        "import numpy as np\n",
        "import matplotlib.pyplot as plt\n",
        "from mpl_toolkits.mplot3d import Axes3D"
      ]
    },
    {
      "cell_type": "markdown",
      "source": [
        "## Generate random input to train the model on"
      ],
      "metadata": {
        "id": "hW1nAnQRsizb"
      }
    },
    {
      "cell_type": "code",
      "source": [
        "observations = 1000\n",
        "\n",
        "xs = np.random.uniform(low=-10, high=10, size=(observations,1))\n",
        "zs = np.random.uniform(-10, 10, (observations,1))\n",
        "\n",
        "\n",
        "inputs = np.column_stack((xs,zs))\n",
        "\n",
        "print (inputs.shape)"
      ],
      "metadata": {
        "colab": {
          "base_uri": "https://localhost:8080/"
        },
        "id": "Hizp-lrPAukq",
        "outputId": "6c2bf6a9-b825-48ed-a6d5-ba920cb9f860"
      },
      "execution_count": null,
      "outputs": [
        {
          "output_type": "stream",
          "name": "stdout",
          "text": [
            "(1000, 2)\n"
          ]
        }
      ]
    }
  ]
}