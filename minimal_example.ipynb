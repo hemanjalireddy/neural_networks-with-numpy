{
  "nbformat": 4,
  "nbformat_minor": 0,
  "metadata": {
    "colab": {
      "name": "minimal_example.ipynb",
      "provenance": []
    },
    "kernelspec": {
      "name": "python3",
      "display_name": "Python 3"
    },
    "language_info": {
      "name": "python"
    }
  },
  "cells": [
    {
      "cell_type": "markdown",
      "source": [
        "# Simple Linear Regression.Minimal example"
      ],
      "metadata": {
        "id": "760YlUBVkgLX"
      }
    },
    {
      "cell_type": "markdown",
      "source": [
        "## Import the relevant data"
      ],
      "metadata": {
        "id": "U-4hdUL5klr7"
      }
    },
    {
      "cell_type": "code",
      "execution_count": 1,
      "metadata": {
        "id": "fOceUfDhkLw6"
      },
      "outputs": [],
      "source": [
        "import numpy as np\n",
        "import matplotlib.pyplot as plt\n",
        "from mpl_toolkits.mplot3d import Axes3D"
      ]
    },
    {
      "cell_type": "markdown",
      "source": [
        "## Generate random input data to train on"
      ],
      "metadata": {
        "id": "xKho7tbllRxN"
      }
    },
    {
      "cell_type": "code",
      "source": [
        "observations = 1000\n",
        "\n",
        "xs = np.random.uniform(low=-10 , high=10 , size = (observations,1)) #size = no.of obs x number of variables\n",
        "zs = np.random.uniform(low=-10 , high=10 , size = (observations,1))\n",
        "inputs = np.column_stack((xs,zs))  #dimensions = no.of obs * no of variables\n",
        "print(inputs.shape)"
      ],
      "metadata": {
        "colab": {
          "base_uri": "https://localhost:8080/"
        },
        "id": "qd8tkwA_lUgL",
        "outputId": "19c6e53f-e5e5-44c5-8b7b-bd695cc0455a"
      },
      "execution_count": 2,
      "outputs": [
        {
          "output_type": "stream",
          "name": "stdout",
          "text": [
            "(1000, 2)\n"
          ]
        }
      ]
    }
  ]
}