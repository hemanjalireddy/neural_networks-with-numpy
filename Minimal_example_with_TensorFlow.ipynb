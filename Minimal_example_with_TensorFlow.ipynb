{
  "nbformat": 4,
  "nbformat_minor": 0,
  "metadata": {
    "colab": {
      "name": "Minimal_example_with_TensorFlow.ipynb",
      "provenance": [],
      "authorship_tag": "ABX9TyMt/QGDzUHtmT91Jgc6JWNn"
    },
    "kernelspec": {
      "name": "python3",
      "display_name": "Python 3"
    },
    "language_info": {
      "name": "python"
    }
  },
  "cells": [
    {
      "cell_type": "code",
      "execution_count": 1,
      "metadata": {
        "colab": {
          "base_uri": "https://localhost:8080/"
        },
        "id": "FOhLeZD7D1Od",
        "outputId": "d9782baf-f090-4541-e1ad-2d8c67920117"
      },
      "outputs": [
        {
          "output_type": "stream",
          "name": "stdout",
          "text": [
            "Found existing installation: tensorflow 2.8.2+zzzcolab20220527125636\n",
            "Uninstalling tensorflow-2.8.2+zzzcolab20220527125636:\n",
            "  Would remove:\n",
            "    /usr/local/bin/estimator_ckpt_converter\n",
            "    /usr/local/bin/import_pb_to_tensorboard\n",
            "    /usr/local/bin/saved_model_cli\n",
            "    /usr/local/bin/tensorboard\n",
            "    /usr/local/bin/tf_upgrade_v2\n",
            "    /usr/local/bin/tflite_convert\n",
            "    /usr/local/bin/toco\n",
            "    /usr/local/bin/toco_from_protos\n",
            "    /usr/local/lib/python3.7/dist-packages/tensorflow-2.8.2+zzzcolab20220527125636.dist-info/*\n",
            "    /usr/local/lib/python3.7/dist-packages/tensorflow/*\n",
            "Proceed (y/n)? y\n",
            "y\n",
            "  Successfully uninstalled tensorflow-2.8.2+zzzcolab20220527125636\n"
          ]
        }
      ],
      "source": [
        "!pip uninstall tensorflow\n"
      ]
    },
    {
      "cell_type": "code",
      "source": [
        "!pip install tensorflow\n"
      ],
      "metadata": {
        "colab": {
          "base_uri": "https://localhost:8080/"
        },
        "id": "u5_O0ra_EPwD",
        "outputId": "16d0555d-2921-45eb-dc42-c8719d6f638f"
      },
      "execution_count": 2,
      "outputs": [
        {
          "output_type": "stream",
          "name": "stdout",
          "text": [
            "Looking in indexes: https://pypi.org/simple, https://us-python.pkg.dev/colab-wheels/public/simple/\n",
            "Collecting tensorflow\n",
            "  Downloading tensorflow-2.9.1-cp37-cp37m-manylinux_2_17_x86_64.manylinux2014_x86_64.whl (511.7 MB)\n",
            "\u001b[K     |████████████████████████████████| 511.7 MB 6.0 kB/s \n",
            "\u001b[?25hCollecting gast<=0.4.0,>=0.2.1\n",
            "  Downloading gast-0.4.0-py3-none-any.whl (9.8 kB)\n",
            "Requirement already satisfied: six>=1.12.0 in /usr/local/lib/python3.7/dist-packages (from tensorflow) (1.15.0)\n",
            "Collecting keras<2.10.0,>=2.9.0rc0\n",
            "  Downloading keras-2.9.0-py2.py3-none-any.whl (1.6 MB)\n",
            "\u001b[K     |████████████████████████████████| 1.6 MB 44.3 MB/s \n",
            "\u001b[?25hRequirement already satisfied: opt-einsum>=2.3.2 in /usr/local/lib/python3.7/dist-packages (from tensorflow) (3.3.0)\n",
            "Requirement already satisfied: tensorflow-io-gcs-filesystem>=0.23.1 in /usr/local/lib/python3.7/dist-packages (from tensorflow) (0.26.0)\n",
            "Requirement already satisfied: astunparse>=1.6.0 in /usr/local/lib/python3.7/dist-packages (from tensorflow) (1.6.3)\n",
            "Requirement already satisfied: protobuf<3.20,>=3.9.2 in /usr/local/lib/python3.7/dist-packages (from tensorflow) (3.17.3)\n",
            "Requirement already satisfied: termcolor>=1.1.0 in /usr/local/lib/python3.7/dist-packages (from tensorflow) (1.1.0)\n",
            "Requirement already satisfied: numpy>=1.20 in /usr/local/lib/python3.7/dist-packages (from tensorflow) (1.21.6)\n",
            "Collecting tensorboard<2.10,>=2.9\n",
            "  Downloading tensorboard-2.9.1-py3-none-any.whl (5.8 MB)\n",
            "\u001b[K     |████████████████████████████████| 5.8 MB 28.0 MB/s \n",
            "\u001b[?25hRequirement already satisfied: h5py>=2.9.0 in /usr/local/lib/python3.7/dist-packages (from tensorflow) (3.1.0)\n",
            "Requirement already satisfied: wrapt>=1.11.0 in /usr/local/lib/python3.7/dist-packages (from tensorflow) (1.14.1)\n",
            "Collecting tensorflow-estimator<2.10.0,>=2.9.0rc0\n",
            "  Downloading tensorflow_estimator-2.9.0-py2.py3-none-any.whl (438 kB)\n",
            "\u001b[K     |████████████████████████████████| 438 kB 42.1 MB/s \n",
            "\u001b[?25hRequirement already satisfied: typing-extensions>=3.6.6 in /usr/local/lib/python3.7/dist-packages (from tensorflow) (4.1.1)\n",
            "Requirement already satisfied: packaging in /usr/local/lib/python3.7/dist-packages (from tensorflow) (21.3)\n",
            "Requirement already satisfied: absl-py>=1.0.0 in /usr/local/lib/python3.7/dist-packages (from tensorflow) (1.1.0)\n",
            "Collecting flatbuffers<2,>=1.12\n",
            "  Downloading flatbuffers-1.12-py2.py3-none-any.whl (15 kB)\n",
            "Requirement already satisfied: google-pasta>=0.1.1 in /usr/local/lib/python3.7/dist-packages (from tensorflow) (0.2.0)\n",
            "Requirement already satisfied: grpcio<2.0,>=1.24.3 in /usr/local/lib/python3.7/dist-packages (from tensorflow) (1.46.3)\n",
            "Requirement already satisfied: keras-preprocessing>=1.1.1 in /usr/local/lib/python3.7/dist-packages (from tensorflow) (1.1.2)\n",
            "Requirement already satisfied: setuptools in /usr/local/lib/python3.7/dist-packages (from tensorflow) (57.4.0)\n",
            "Requirement already satisfied: libclang>=13.0.0 in /usr/local/lib/python3.7/dist-packages (from tensorflow) (14.0.1)\n",
            "Requirement already satisfied: wheel<1.0,>=0.23.0 in /usr/local/lib/python3.7/dist-packages (from astunparse>=1.6.0->tensorflow) (0.37.1)\n",
            "Requirement already satisfied: cached-property in /usr/local/lib/python3.7/dist-packages (from h5py>=2.9.0->tensorflow) (1.5.2)\n",
            "Requirement already satisfied: markdown>=2.6.8 in /usr/local/lib/python3.7/dist-packages (from tensorboard<2.10,>=2.9->tensorflow) (3.3.7)\n",
            "Requirement already satisfied: tensorboard-plugin-wit>=1.6.0 in /usr/local/lib/python3.7/dist-packages (from tensorboard<2.10,>=2.9->tensorflow) (1.8.1)\n",
            "Requirement already satisfied: werkzeug>=1.0.1 in /usr/local/lib/python3.7/dist-packages (from tensorboard<2.10,>=2.9->tensorflow) (1.0.1)\n",
            "Requirement already satisfied: google-auth<3,>=1.6.3 in /usr/local/lib/python3.7/dist-packages (from tensorboard<2.10,>=2.9->tensorflow) (1.35.0)\n",
            "Requirement already satisfied: requests<3,>=2.21.0 in /usr/local/lib/python3.7/dist-packages (from tensorboard<2.10,>=2.9->tensorflow) (2.23.0)\n",
            "Requirement already satisfied: tensorboard-data-server<0.7.0,>=0.6.0 in /usr/local/lib/python3.7/dist-packages (from tensorboard<2.10,>=2.9->tensorflow) (0.6.1)\n",
            "Requirement already satisfied: google-auth-oauthlib<0.5,>=0.4.1 in /usr/local/lib/python3.7/dist-packages (from tensorboard<2.10,>=2.9->tensorflow) (0.4.6)\n",
            "Requirement already satisfied: pyasn1-modules>=0.2.1 in /usr/local/lib/python3.7/dist-packages (from google-auth<3,>=1.6.3->tensorboard<2.10,>=2.9->tensorflow) (0.2.8)\n",
            "Requirement already satisfied: cachetools<5.0,>=2.0.0 in /usr/local/lib/python3.7/dist-packages (from google-auth<3,>=1.6.3->tensorboard<2.10,>=2.9->tensorflow) (4.2.4)\n",
            "Requirement already satisfied: rsa<5,>=3.1.4 in /usr/local/lib/python3.7/dist-packages (from google-auth<3,>=1.6.3->tensorboard<2.10,>=2.9->tensorflow) (4.8)\n",
            "Requirement already satisfied: requests-oauthlib>=0.7.0 in /usr/local/lib/python3.7/dist-packages (from google-auth-oauthlib<0.5,>=0.4.1->tensorboard<2.10,>=2.9->tensorflow) (1.3.1)\n",
            "Requirement already satisfied: importlib-metadata>=4.4 in /usr/local/lib/python3.7/dist-packages (from markdown>=2.6.8->tensorboard<2.10,>=2.9->tensorflow) (4.11.4)\n",
            "Requirement already satisfied: zipp>=0.5 in /usr/local/lib/python3.7/dist-packages (from importlib-metadata>=4.4->markdown>=2.6.8->tensorboard<2.10,>=2.9->tensorflow) (3.8.0)\n",
            "Requirement already satisfied: pyasn1<0.5.0,>=0.4.6 in /usr/local/lib/python3.7/dist-packages (from pyasn1-modules>=0.2.1->google-auth<3,>=1.6.3->tensorboard<2.10,>=2.9->tensorflow) (0.4.8)\n",
            "Requirement already satisfied: certifi>=2017.4.17 in /usr/local/lib/python3.7/dist-packages (from requests<3,>=2.21.0->tensorboard<2.10,>=2.9->tensorflow) (2022.6.15)\n",
            "Requirement already satisfied: chardet<4,>=3.0.2 in /usr/local/lib/python3.7/dist-packages (from requests<3,>=2.21.0->tensorboard<2.10,>=2.9->tensorflow) (3.0.4)\n",
            "Requirement already satisfied: idna<3,>=2.5 in /usr/local/lib/python3.7/dist-packages (from requests<3,>=2.21.0->tensorboard<2.10,>=2.9->tensorflow) (2.10)\n",
            "Requirement already satisfied: urllib3!=1.25.0,!=1.25.1,<1.26,>=1.21.1 in /usr/local/lib/python3.7/dist-packages (from requests<3,>=2.21.0->tensorboard<2.10,>=2.9->tensorflow) (1.24.3)\n",
            "Requirement already satisfied: oauthlib>=3.0.0 in /usr/local/lib/python3.7/dist-packages (from requests-oauthlib>=0.7.0->google-auth-oauthlib<0.5,>=0.4.1->tensorboard<2.10,>=2.9->tensorflow) (3.2.0)\n",
            "Requirement already satisfied: pyparsing!=3.0.5,>=2.0.2 in /usr/local/lib/python3.7/dist-packages (from packaging->tensorflow) (3.0.9)\n",
            "Installing collected packages: tensorflow-estimator, tensorboard, keras, gast, flatbuffers, tensorflow\n",
            "  Attempting uninstall: tensorflow-estimator\n",
            "    Found existing installation: tensorflow-estimator 2.8.0\n",
            "    Uninstalling tensorflow-estimator-2.8.0:\n",
            "      Successfully uninstalled tensorflow-estimator-2.8.0\n",
            "  Attempting uninstall: tensorboard\n",
            "    Found existing installation: tensorboard 2.8.0\n",
            "    Uninstalling tensorboard-2.8.0:\n",
            "      Successfully uninstalled tensorboard-2.8.0\n",
            "  Attempting uninstall: keras\n",
            "    Found existing installation: keras 2.8.0\n",
            "    Uninstalling keras-2.8.0:\n",
            "      Successfully uninstalled keras-2.8.0\n",
            "  Attempting uninstall: gast\n",
            "    Found existing installation: gast 0.5.3\n",
            "    Uninstalling gast-0.5.3:\n",
            "      Successfully uninstalled gast-0.5.3\n",
            "  Attempting uninstall: flatbuffers\n",
            "    Found existing installation: flatbuffers 2.0\n",
            "    Uninstalling flatbuffers-2.0:\n",
            "      Successfully uninstalled flatbuffers-2.0\n",
            "Successfully installed flatbuffers-1.12 gast-0.4.0 keras-2.9.0 tensorboard-2.9.1 tensorflow-2.9.1 tensorflow-estimator-2.9.0\n"
          ]
        }
      ]
    },
    {
      "cell_type": "code",
      "source": [
        "!pip install ipykernel"
      ],
      "metadata": {
        "colab": {
          "base_uri": "https://localhost:8080/"
        },
        "id": "T15UPSPaEo9s",
        "outputId": "56f6e185-3178-402e-eeda-249c2ded843b"
      },
      "execution_count": 3,
      "outputs": [
        {
          "output_type": "stream",
          "name": "stdout",
          "text": [
            "Looking in indexes: https://pypi.org/simple, https://us-python.pkg.dev/colab-wheels/public/simple/\n",
            "Requirement already satisfied: ipykernel in /usr/local/lib/python3.7/dist-packages (4.10.1)\n",
            "Requirement already satisfied: tornado>=4.0 in /usr/local/lib/python3.7/dist-packages (from ipykernel) (5.1.1)\n",
            "Requirement already satisfied: ipython>=4.0.0 in /usr/local/lib/python3.7/dist-packages (from ipykernel) (5.5.0)\n",
            "Requirement already satisfied: jupyter-client in /usr/local/lib/python3.7/dist-packages (from ipykernel) (5.3.5)\n",
            "Requirement already satisfied: traitlets>=4.1.0 in /usr/local/lib/python3.7/dist-packages (from ipykernel) (5.1.1)\n",
            "Requirement already satisfied: decorator in /usr/local/lib/python3.7/dist-packages (from ipython>=4.0.0->ipykernel) (4.4.2)\n",
            "Requirement already satisfied: setuptools>=18.5 in /usr/local/lib/python3.7/dist-packages (from ipython>=4.0.0->ipykernel) (57.4.0)\n",
            "Requirement already satisfied: pickleshare in /usr/local/lib/python3.7/dist-packages (from ipython>=4.0.0->ipykernel) (0.7.5)\n",
            "Requirement already satisfied: prompt-toolkit<2.0.0,>=1.0.4 in /usr/local/lib/python3.7/dist-packages (from ipython>=4.0.0->ipykernel) (1.0.18)\n",
            "Requirement already satisfied: pygments in /usr/local/lib/python3.7/dist-packages (from ipython>=4.0.0->ipykernel) (2.6.1)\n",
            "Requirement already satisfied: pexpect in /usr/local/lib/python3.7/dist-packages (from ipython>=4.0.0->ipykernel) (4.8.0)\n",
            "Requirement already satisfied: simplegeneric>0.8 in /usr/local/lib/python3.7/dist-packages (from ipython>=4.0.0->ipykernel) (0.8.1)\n",
            "Requirement already satisfied: six>=1.9.0 in /usr/local/lib/python3.7/dist-packages (from prompt-toolkit<2.0.0,>=1.0.4->ipython>=4.0.0->ipykernel) (1.15.0)\n",
            "Requirement already satisfied: wcwidth in /usr/local/lib/python3.7/dist-packages (from prompt-toolkit<2.0.0,>=1.0.4->ipython>=4.0.0->ipykernel) (0.2.5)\n",
            "Requirement already satisfied: pyzmq>=13 in /usr/local/lib/python3.7/dist-packages (from jupyter-client->ipykernel) (23.1.0)\n",
            "Requirement already satisfied: python-dateutil>=2.1 in /usr/local/lib/python3.7/dist-packages (from jupyter-client->ipykernel) (2.8.2)\n",
            "Requirement already satisfied: jupyter-core>=4.6.0 in /usr/local/lib/python3.7/dist-packages (from jupyter-client->ipykernel) (4.10.0)\n",
            "Requirement already satisfied: ptyprocess>=0.5 in /usr/local/lib/python3.7/dist-packages (from pexpect->ipython>=4.0.0->ipykernel) (0.7.0)\n"
          ]
        }
      ]
    },
    {
      "cell_type": "code",
      "source": [
        "import numpy as np\n",
        "import matplotlib.pyplot as plt\n",
        "import tensorflow as tf"
      ],
      "metadata": {
        "id": "yoZ5s91xGvYj"
      },
      "execution_count": 6,
      "outputs": []
    },
    {
      "cell_type": "markdown",
      "source": [
        "## Data generation"
      ],
      "metadata": {
        "id": "GOFJU9npHPI9"
      }
    },
    {
      "cell_type": "code",
      "source": [
        "observations = 1000\n",
        "\n",
        "xs = np.random.uniform(low = -10 , high =10 , size=(observations,1))\n",
        "zs = np.random.uniform(low = -10 , high =10 , size=(observations,1))\n",
        "\n",
        "generated_inputs = np.column_stack((xs , zs))\n",
        "\n",
        "noise = np.random.uniform(-1 , 1 , (observations,1))\n",
        "\n",
        "generated_targets = 2*xs - 3*zs + 5 + noise\n",
        "\n",
        "np.savez('TF_intro' , inputs = generated_inputs , targets = generated_targets) #tensorflow frndly file"
      ],
      "metadata": {
        "id": "GwGvq-NVHQ07"
      },
      "execution_count": 7,
      "outputs": []
    },
    {
      "cell_type": "markdown",
      "source": [
        "## Loading the data from the file"
      ],
      "metadata": {
        "id": "cY3dbKbsI54X"
      }
    },
    {
      "cell_type": "code",
      "source": [
        "training_data = np.load('TF_intro.npz')"
      ],
      "metadata": {
        "id": "APysuwEXI9GS"
      },
      "execution_count": 8,
      "outputs": []
    },
    {
      "cell_type": "code",
      "source": [
        "training_data"
      ],
      "metadata": {
        "colab": {
          "base_uri": "https://localhost:8080/"
        },
        "id": "MfAzVXXBMA9x",
        "outputId": "1aa81150-7136-4f8e-8d66-dce8282ee0ef"
      },
      "execution_count": 14,
      "outputs": [
        {
          "output_type": "execute_result",
          "data": {
            "text/plain": [
              "<numpy.lib.npyio.NpzFile at 0x7f2ef11b08d0>"
            ]
          },
          "metadata": {},
          "execution_count": 14
        }
      ]
    },
    {
      "cell_type": "code",
      "source": [
        "input_size = 2 \n",
        "output_size = 1"
      ],
      "metadata": {
        "id": "BHkCEsLZJCPD"
      },
      "execution_count": 9,
      "outputs": []
    },
    {
      "cell_type": "markdown",
      "source": [
        "## Building the model"
      ],
      "metadata": {
        "id": "vMf6DnXqKPEo"
      }
    },
    {
      "cell_type": "code",
      "source": [
        "model = tf.keras.Sequential ([\n",
        "                              tf.keras.layers.Dense(output_size)\n",
        "                            ])"
      ],
      "metadata": {
        "id": "T3EAHZDaJGuB"
      },
      "execution_count": 11,
      "outputs": []
    },
    {
      "cell_type": "markdown",
      "source": [
        "##Objective function and optimization"
      ],
      "metadata": {
        "id": "LmB7P7G0Kono"
      }
    },
    {
      "cell_type": "code",
      "source": [
        "model.compile(optimizer='sgd' , loss = 'mean_squared_error') #using l2 norm loss"
      ],
      "metadata": {
        "id": "kQSrgCEBKnk8"
      },
      "execution_count": 12,
      "outputs": []
    },
    {
      "cell_type": "markdown",
      "source": [
        "## Fit the model to the data"
      ],
      "metadata": {
        "id": "BVxoWgvBLVFi"
      }
    },
    {
      "cell_type": "code",
      "source": [
        "model.fit(training_data['inputs'] , training_data['targets'] , epochs = 100 , verbose = 2)"
      ],
      "metadata": {
        "colab": {
          "base_uri": "https://localhost:8080/"
        },
        "id": "TwRTdQ3hLXdy",
        "outputId": "d863b20f-442d-494c-d934-76bb14e8216b"
      },
      "execution_count": 20,
      "outputs": [
        {
          "output_type": "stream",
          "name": "stdout",
          "text": [
            "Epoch 1/100\n",
            "32/32 - 0s - loss: 0.3518 - 47ms/epoch - 1ms/step\n",
            "Epoch 2/100\n",
            "32/32 - 0s - loss: 0.3541 - 46ms/epoch - 1ms/step\n",
            "Epoch 3/100\n",
            "32/32 - 0s - loss: 0.3450 - 48ms/epoch - 1ms/step\n",
            "Epoch 4/100\n",
            "32/32 - 0s - loss: 0.3431 - 47ms/epoch - 1ms/step\n",
            "Epoch 5/100\n",
            "32/32 - 0s - loss: 0.3476 - 50ms/epoch - 2ms/step\n",
            "Epoch 6/100\n",
            "32/32 - 0s - loss: 0.3487 - 47ms/epoch - 1ms/step\n",
            "Epoch 7/100\n",
            "32/32 - 0s - loss: 0.3491 - 46ms/epoch - 1ms/step\n",
            "Epoch 8/100\n",
            "32/32 - 0s - loss: 0.3460 - 52ms/epoch - 2ms/step\n",
            "Epoch 9/100\n",
            "32/32 - 0s - loss: 0.3488 - 49ms/epoch - 2ms/step\n",
            "Epoch 10/100\n",
            "32/32 - 0s - loss: 0.3468 - 47ms/epoch - 1ms/step\n",
            "Epoch 11/100\n",
            "32/32 - 0s - loss: 0.3613 - 55ms/epoch - 2ms/step\n",
            "Epoch 12/100\n",
            "32/32 - 0s - loss: 0.3490 - 56ms/epoch - 2ms/step\n",
            "Epoch 13/100\n",
            "32/32 - 0s - loss: 0.3539 - 48ms/epoch - 1ms/step\n",
            "Epoch 14/100\n",
            "32/32 - 0s - loss: 0.3527 - 46ms/epoch - 1ms/step\n",
            "Epoch 15/100\n",
            "32/32 - 0s - loss: 0.3502 - 47ms/epoch - 1ms/step\n",
            "Epoch 16/100\n",
            "32/32 - 0s - loss: 0.3553 - 56ms/epoch - 2ms/step\n",
            "Epoch 17/100\n",
            "32/32 - 0s - loss: 0.3527 - 53ms/epoch - 2ms/step\n",
            "Epoch 18/100\n",
            "32/32 - 0s - loss: 0.3457 - 52ms/epoch - 2ms/step\n",
            "Epoch 19/100\n",
            "32/32 - 0s - loss: 0.3431 - 47ms/epoch - 1ms/step\n",
            "Epoch 20/100\n",
            "32/32 - 0s - loss: 0.3523 - 48ms/epoch - 2ms/step\n",
            "Epoch 21/100\n",
            "32/32 - 0s - loss: 0.3475 - 49ms/epoch - 2ms/step\n",
            "Epoch 22/100\n",
            "32/32 - 0s - loss: 0.3514 - 48ms/epoch - 1ms/step\n",
            "Epoch 23/100\n",
            "32/32 - 0s - loss: 0.3522 - 53ms/epoch - 2ms/step\n",
            "Epoch 24/100\n",
            "32/32 - 0s - loss: 0.3493 - 47ms/epoch - 1ms/step\n",
            "Epoch 25/100\n",
            "32/32 - 0s - loss: 0.3506 - 46ms/epoch - 1ms/step\n",
            "Epoch 26/100\n",
            "32/32 - 0s - loss: 0.3476 - 46ms/epoch - 1ms/step\n",
            "Epoch 27/100\n",
            "32/32 - 0s - loss: 0.3522 - 45ms/epoch - 1ms/step\n",
            "Epoch 28/100\n",
            "32/32 - 0s - loss: 0.3438 - 45ms/epoch - 1ms/step\n",
            "Epoch 29/100\n",
            "32/32 - 0s - loss: 0.3543 - 43ms/epoch - 1ms/step\n",
            "Epoch 30/100\n",
            "32/32 - 0s - loss: 0.3540 - 63ms/epoch - 2ms/step\n",
            "Epoch 31/100\n",
            "32/32 - 0s - loss: 0.3488 - 46ms/epoch - 1ms/step\n",
            "Epoch 32/100\n",
            "32/32 - 0s - loss: 0.3484 - 50ms/epoch - 2ms/step\n",
            "Epoch 33/100\n",
            "32/32 - 0s - loss: 0.3502 - 46ms/epoch - 1ms/step\n",
            "Epoch 34/100\n",
            "32/32 - 0s - loss: 0.3549 - 47ms/epoch - 1ms/step\n",
            "Epoch 35/100\n",
            "32/32 - 0s - loss: 0.3570 - 44ms/epoch - 1ms/step\n",
            "Epoch 36/100\n",
            "32/32 - 0s - loss: 0.3558 - 49ms/epoch - 2ms/step\n",
            "Epoch 37/100\n",
            "32/32 - 0s - loss: 0.3491 - 47ms/epoch - 1ms/step\n",
            "Epoch 38/100\n",
            "32/32 - 0s - loss: 0.3546 - 48ms/epoch - 1ms/step\n",
            "Epoch 39/100\n",
            "32/32 - 0s - loss: 0.3502 - 44ms/epoch - 1ms/step\n",
            "Epoch 40/100\n",
            "32/32 - 0s - loss: 0.3515 - 45ms/epoch - 1ms/step\n",
            "Epoch 41/100\n",
            "32/32 - 0s - loss: 0.3512 - 49ms/epoch - 2ms/step\n",
            "Epoch 42/100\n",
            "32/32 - 0s - loss: 0.3478 - 49ms/epoch - 2ms/step\n",
            "Epoch 43/100\n",
            "32/32 - 0s - loss: 0.3548 - 46ms/epoch - 1ms/step\n",
            "Epoch 44/100\n",
            "32/32 - 0s - loss: 0.3509 - 51ms/epoch - 2ms/step\n",
            "Epoch 45/100\n",
            "32/32 - 0s - loss: 0.3512 - 46ms/epoch - 1ms/step\n",
            "Epoch 46/100\n",
            "32/32 - 0s - loss: 0.3484 - 48ms/epoch - 1ms/step\n",
            "Epoch 47/100\n",
            "32/32 - 0s - loss: 0.3574 - 49ms/epoch - 2ms/step\n",
            "Epoch 48/100\n",
            "32/32 - 0s - loss: 0.3504 - 52ms/epoch - 2ms/step\n",
            "Epoch 49/100\n",
            "32/32 - 0s - loss: 0.3497 - 61ms/epoch - 2ms/step\n",
            "Epoch 50/100\n",
            "32/32 - 0s - loss: 0.3542 - 46ms/epoch - 1ms/step\n",
            "Epoch 51/100\n",
            "32/32 - 0s - loss: 0.3513 - 48ms/epoch - 1ms/step\n",
            "Epoch 52/100\n",
            "32/32 - 0s - loss: 0.3507 - 47ms/epoch - 1ms/step\n",
            "Epoch 53/100\n",
            "32/32 - 0s - loss: 0.3613 - 53ms/epoch - 2ms/step\n",
            "Epoch 54/100\n",
            "32/32 - 0s - loss: 0.3543 - 44ms/epoch - 1ms/step\n",
            "Epoch 55/100\n",
            "32/32 - 0s - loss: 0.3559 - 54ms/epoch - 2ms/step\n",
            "Epoch 56/100\n",
            "32/32 - 0s - loss: 0.3484 - 47ms/epoch - 1ms/step\n",
            "Epoch 57/100\n",
            "32/32 - 0s - loss: 0.3507 - 47ms/epoch - 1ms/step\n",
            "Epoch 58/100\n",
            "32/32 - 0s - loss: 0.3503 - 48ms/epoch - 2ms/step\n",
            "Epoch 59/100\n",
            "32/32 - 0s - loss: 0.3523 - 46ms/epoch - 1ms/step\n",
            "Epoch 60/100\n",
            "32/32 - 0s - loss: 0.3569 - 51ms/epoch - 2ms/step\n",
            "Epoch 61/100\n",
            "32/32 - 0s - loss: 0.3464 - 48ms/epoch - 1ms/step\n",
            "Epoch 62/100\n",
            "32/32 - 0s - loss: 0.3482 - 44ms/epoch - 1ms/step\n",
            "Epoch 63/100\n",
            "32/32 - 0s - loss: 0.3487 - 60ms/epoch - 2ms/step\n",
            "Epoch 64/100\n",
            "32/32 - 0s - loss: 0.3511 - 48ms/epoch - 2ms/step\n",
            "Epoch 65/100\n",
            "32/32 - 0s - loss: 0.3462 - 48ms/epoch - 2ms/step\n",
            "Epoch 66/100\n",
            "32/32 - 0s - loss: 0.3513 - 49ms/epoch - 2ms/step\n",
            "Epoch 67/100\n",
            "32/32 - 0s - loss: 0.3472 - 48ms/epoch - 2ms/step\n",
            "Epoch 68/100\n",
            "32/32 - 0s - loss: 0.3509 - 61ms/epoch - 2ms/step\n",
            "Epoch 69/100\n",
            "32/32 - 0s - loss: 0.3491 - 49ms/epoch - 2ms/step\n",
            "Epoch 70/100\n",
            "32/32 - 0s - loss: 0.3501 - 47ms/epoch - 1ms/step\n",
            "Epoch 71/100\n",
            "32/32 - 0s - loss: 0.3538 - 49ms/epoch - 2ms/step\n",
            "Epoch 72/100\n",
            "32/32 - 0s - loss: 0.3638 - 47ms/epoch - 1ms/step\n",
            "Epoch 73/100\n",
            "32/32 - 0s - loss: 0.3499 - 49ms/epoch - 2ms/step\n",
            "Epoch 74/100\n",
            "32/32 - 0s - loss: 0.3502 - 50ms/epoch - 2ms/step\n",
            "Epoch 75/100\n",
            "32/32 - 0s - loss: 0.3525 - 52ms/epoch - 2ms/step\n",
            "Epoch 76/100\n",
            "32/32 - 0s - loss: 0.3529 - 43ms/epoch - 1ms/step\n",
            "Epoch 77/100\n",
            "32/32 - 0s - loss: 0.3500 - 48ms/epoch - 2ms/step\n",
            "Epoch 78/100\n",
            "32/32 - 0s - loss: 0.3485 - 45ms/epoch - 1ms/step\n",
            "Epoch 79/100\n",
            "32/32 - 0s - loss: 0.3546 - 49ms/epoch - 2ms/step\n",
            "Epoch 80/100\n",
            "32/32 - 0s - loss: 0.3482 - 50ms/epoch - 2ms/step\n",
            "Epoch 81/100\n",
            "32/32 - 0s - loss: 0.3474 - 45ms/epoch - 1ms/step\n",
            "Epoch 82/100\n",
            "32/32 - 0s - loss: 0.3588 - 45ms/epoch - 1ms/step\n",
            "Epoch 83/100\n",
            "32/32 - 0s - loss: 0.3506 - 46ms/epoch - 1ms/step\n",
            "Epoch 84/100\n",
            "32/32 - 0s - loss: 0.3501 - 43ms/epoch - 1ms/step\n",
            "Epoch 85/100\n",
            "32/32 - 0s - loss: 0.3539 - 48ms/epoch - 2ms/step\n",
            "Epoch 86/100\n",
            "32/32 - 0s - loss: 0.3548 - 49ms/epoch - 2ms/step\n",
            "Epoch 87/100\n",
            "32/32 - 0s - loss: 0.3516 - 54ms/epoch - 2ms/step\n",
            "Epoch 88/100\n",
            "32/32 - 0s - loss: 0.3447 - 52ms/epoch - 2ms/step\n",
            "Epoch 89/100\n",
            "32/32 - 0s - loss: 0.3552 - 48ms/epoch - 2ms/step\n",
            "Epoch 90/100\n",
            "32/32 - 0s - loss: 0.3456 - 45ms/epoch - 1ms/step\n",
            "Epoch 91/100\n",
            "32/32 - 0s - loss: 0.3444 - 46ms/epoch - 1ms/step\n",
            "Epoch 92/100\n",
            "32/32 - 0s - loss: 0.3529 - 60ms/epoch - 2ms/step\n",
            "Epoch 93/100\n",
            "32/32 - 0s - loss: 0.3523 - 50ms/epoch - 2ms/step\n",
            "Epoch 94/100\n",
            "32/32 - 0s - loss: 0.3502 - 47ms/epoch - 1ms/step\n",
            "Epoch 95/100\n",
            "32/32 - 0s - loss: 0.3447 - 49ms/epoch - 2ms/step\n",
            "Epoch 96/100\n",
            "32/32 - 0s - loss: 0.3516 - 53ms/epoch - 2ms/step\n",
            "Epoch 97/100\n",
            "32/32 - 0s - loss: 0.3492 - 46ms/epoch - 1ms/step\n",
            "Epoch 98/100\n",
            "32/32 - 0s - loss: 0.3450 - 48ms/epoch - 2ms/step\n",
            "Epoch 99/100\n",
            "32/32 - 0s - loss: 0.3523 - 56ms/epoch - 2ms/step\n",
            "Epoch 100/100\n",
            "32/32 - 0s - loss: 0.3523 - 46ms/epoch - 1ms/step\n"
          ]
        },
        {
          "output_type": "execute_result",
          "data": {
            "text/plain": [
              "<keras.callbacks.History at 0x7f2eec033310>"
            ]
          },
          "metadata": {},
          "execution_count": 20
        }
      ]
    },
    {
      "cell_type": "markdown",
      "source": [
        "## Extract the weights and biases"
      ],
      "metadata": {
        "id": "3V8VsgCENhGp"
      }
    },
    {
      "cell_type": "code",
      "source": [
        "model.layers[0].get_weights()"
      ],
      "metadata": {
        "colab": {
          "base_uri": "https://localhost:8080/"
        },
        "id": "OiuO500_NkrM",
        "outputId": "04e7dcd2-52d0-42b2-e566-badc0344de9f"
      },
      "execution_count": 21,
      "outputs": [
        {
          "output_type": "execute_result",
          "data": {
            "text/plain": [
              "[array([[ 2.0157943],\n",
              "        [-3.0516183]], dtype=float32), array([5.0023627], dtype=float32)]"
            ]
          },
          "metadata": {},
          "execution_count": 21
        }
      ]
    },
    {
      "cell_type": "code",
      "source": [
        "weights = model.layers[0].get_weights()[0]\n",
        "weights"
      ],
      "metadata": {
        "colab": {
          "base_uri": "https://localhost:8080/"
        },
        "id": "F7Hzem5mNxT0",
        "outputId": "88045ecb-6982-46ac-f3c9-3ef834adfad3"
      },
      "execution_count": 23,
      "outputs": [
        {
          "output_type": "execute_result",
          "data": {
            "text/plain": [
              "array([[ 2.0157943],\n",
              "       [-3.0516183]], dtype=float32)"
            ]
          },
          "metadata": {},
          "execution_count": 23
        }
      ]
    },
    {
      "cell_type": "code",
      "source": [
        "biases = model.layers[0].get_weights()[1]\n",
        "biases"
      ],
      "metadata": {
        "colab": {
          "base_uri": "https://localhost:8080/"
        },
        "id": "ugsCUTwhN1S1",
        "outputId": "3bfd63ed-0be6-42c6-c43d-c7665baceb92"
      },
      "execution_count": 24,
      "outputs": [
        {
          "output_type": "execute_result",
          "data": {
            "text/plain": [
              "array([5.0023627], dtype=float32)"
            ]
          },
          "metadata": {},
          "execution_count": 24
        }
      ]
    }
  ]
}